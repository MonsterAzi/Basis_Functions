{
 "cells": [
  {
   "cell_type": "markdown",
   "metadata": {},
   "source": [
    "# **Define of Model**"
   ]
  },
  {
   "cell_type": "code",
   "execution_count": 1,
   "metadata": {},
   "outputs": [],
   "source": [
    "import torch\n",
    "import torch.nn as nn\n",
    "import torch\n",
    "import torch.nn as nn\n",
    "import torch.optim as optim\n",
    "from torchvision import datasets, transforms\n",
    "from torch.utils.data import DataLoader, Subset\n",
    "import numpy as np\n",
    "import matplotlib.pyplot as plt\n",
    "%matplotlib inline\n",
    "import numpy as np"
   ]
  },
  {
   "cell_type": "code",
   "execution_count": 3,
   "metadata": {},
   "outputs": [],
   "source": [
    "\n",
    "def charlier(n, x, a):\n",
    "    if n == 0:\n",
    "        return torch.ones_like(x)\n",
    "    elif n == 1:\n",
    "        return -x / a + 1\n",
    "    else:\n",
    "        return ((-x / a + 2 * n - 1) * charlier(n - 1, x, a) - (n - 1) * charlier(n - 2, x, a)) / n\n",
    "\n",
    "class CharlierKANLayer(nn.Module):\n",
    "    def __init__(self, input_dim, output_dim, degree, a=1.0):\n",
    "        super(CharlierKANLayer, self).__init__()\n",
    "        self.input_dim = input_dim\n",
    "        self.output_dim = output_dim\n",
    "        self.degree = degree\n",
    "        self.a = a\n",
    "        self.charlier_coeffs = nn.Parameter(torch.empty(input_dim, output_dim, degree + 1))\n",
    "        nn.init.normal_(self.charlier_coeffs, mean=0.0, std=1 / (input_dim * (degree + 1)))\n",
    "\n",
    "    def forward(self, x):\n",
    "        # Normalize x to [0, 1] using sigmoid\n",
    "        x = torch.sigmoid(x)\n",
    "\n",
    "        # Compute the Charlier basis functions\n",
    "        charlier_basis = []\n",
    "        for n in range(self.degree + 1):\n",
    "            charlier_basis.append(charlier(n, x, self.a))\n",
    "        charlier_basis = torch.stack(charlier_basis, dim=-1)  # shape = (batch_size, input_dim, degree + 1)\n",
    "\n",
    "        # Compute the Charlier interpolation\n",
    "        y = torch.einsum(\"bid,iod->bo\", charlier_basis, self.charlier_coeffs)  # shape = (batch_size, output_dim)\n",
    "        y = y.view(-1, self.output_dim)\n",
    "\n",
    "        return y\n",
    "class MNISTCharlierKAN(nn.Module):\n",
    "    def __init__(self):\n",
    "        super(MNISTCharlierKAN, self).__init__()\n",
    "        self.trigkan1 = CharlierKANLayer(784, 32, 3)\n",
    "        self.bn1 = nn.LayerNorm(32)\n",
    "        self.trigkan2 = CharlierKANLayer(32, 32, 3)\n",
    "        self.bn2 = nn.LayerNorm(32)\n",
    "        self.trigkan3 = CharlierKANLayer(32, 10, 3)\n",
    "\n",
    "    def forward(self, x):\n",
    "        x = x.view(-1, 28*28)\n",
    "        #x=x.tanh()\n",
    "        x = self.trigkan1(x)\n",
    "        x = self.bn1(x)\n",
    "        x = self.trigkan2(x)\n",
    "        x = self.bn2(x)\n",
    "        x = self.trigkan3(x)\n",
    "        return x"
   ]
  },
  {
   "cell_type": "code",
   "execution_count": 4,
   "metadata": {},
   "outputs": [],
   "source": [
    "import torch\n",
    "import torch.nn as nn\n",
    "import torch\n",
    "import torch.nn as nn\n",
    "import torch.optim as optim\n",
    "from torchvision import datasets, transforms\n",
    "from torch.utils.data import DataLoader, Subset\n",
    "import numpy as n\n",
    "transform = transforms.Compose([\n",
    "    transforms.ToTensor(), \n",
    "    transforms.Normalize((0.1307,), (0.3081,))\n",
    "])\n",
    "\n",
    "train_dataset = datasets.MNIST(root='./data', train=True, download=True, transform=transform)\n",
    "test_dataset = datasets.MNIST(root='./data', train=False, download=True, transform=transform)\n",
    "\n",
    "train_loader = DataLoader(train_dataset, batch_size=64, shuffle=True)\n",
    "test_loader = DataLoader(test_dataset, batch_size=1024, shuffle=False)\n",
    "\n",
    "device = torch.device(\"cuda\" if torch.cuda.is_available() else \"cpu\")\n",
    "num_classes = 10\n",
    "\n",
    "\n",
    "\n",
    "criterion = nn.CrossEntropyLoss()\n",
    "\n",
    "\n",
    "def train(model, train_loader, criterion, optimizer, device):\n",
    "    model.train()\n",
    "    total_loss = 0\n",
    "    correct = 0\n",
    "    \n",
    "    for idx, (data, target) in enumerate(train_loader):\n",
    "        data, target = data.to(device), target.to(device)\n",
    "\n",
    "        if isinstance(optimizer, optim.LBFGS):\n",
    "            def closure():\n",
    "                optimizer.zero_grad()\n",
    "                output = model(data)\n",
    "                loss = criterion(output, target)\n",
    "                loss.backward()\n",
    "                return loss\n",
    "            loss = optimizer.step(closure)\n",
    "        else:\n",
    "            optimizer.zero_grad()\n",
    "            output = model(data)\n",
    "            loss = criterion(output, target)\n",
    "            loss.backward()\n",
    "            optimizer.step()\n",
    "            loss = loss.item()\n",
    "            \n",
    "        total_loss += loss\n",
    "        \n",
    "    return total_loss / len(train_loader)\n",
    "\n",
    "def validate(model, test_loader, criterion, device):\n",
    "    model.eval()\n",
    "    total_loss = 0\n",
    "    correct = 0\n",
    "    with torch.no_grad():\n",
    "        for data, target in test_loader:\n",
    "            data, target = data.to(device), target.to(device)\n",
    "            output = model(data)\n",
    "            loss = criterion(output, target)\n",
    "            total_loss += loss.item()\n",
    "            pred = output.argmax(dim=1, keepdim=True)\n",
    "            correct += pred.eq(target.view_as(pred)).sum().item()\n",
    "\n",
    "    return total_loss / len(test_loader), correct / len(test_loader.dataset)"
   ]
  },
  {
   "cell_type": "code",
   "execution_count": 5,
   "metadata": {},
   "outputs": [
    {
     "name": "stdout",
     "output_type": "stream",
     "text": [
      "Total trainable parameters of Charlier: 105856\n"
     ]
    }
   ],
   "source": [
    "Model_Names=['Charlier'] #Add names of other models\n",
    "model0 = MNISTCharlierKAN().to(device)\n",
    "models=[model0]\n",
    "total_params = sum(p.numel() for p in model0.parameters() if p.requires_grad)\n",
    "print(f\"Total trainable parameters of {Model_Names[0]}: {total_params}\")\n"
   ]
  },
  {
   "cell_type": "markdown",
   "metadata": {},
   "source": [
    "# **Training of Model**"
   ]
  },
  {
   "cell_type": "code",
   "execution_count": 6,
   "metadata": {},
   "outputs": [
    {
     "name": "stdout",
     "output_type": "stream",
     "text": [
      "Charlier, Epoch 1, Train Loss: 1.2236, Test Loss: 0.5276, Test Acc: 0.91\n",
      "Charlier, Epoch 2, Train Loss: 0.3904, Test Loss: 0.3157, Test Acc: 0.92\n",
      "Charlier, Epoch 3, Train Loss: 0.2758, Test Loss: 0.2552, Test Acc: 0.93\n",
      "Charlier, Epoch 4, Train Loss: 0.2406, Test Loss: 0.2325, Test Acc: 0.93\n",
      "Charlier, Epoch 5, Train Loss: 0.2204, Test Loss: 0.2054, Test Acc: 0.94\n",
      "Charlier, Epoch 6, Train Loss: 0.2015, Test Loss: 0.1919, Test Acc: 0.94\n",
      "Charlier, Epoch 7, Train Loss: 0.1871, Test Loss: 0.1885, Test Acc: 0.94\n",
      "Charlier, Epoch 8, Train Loss: 0.1779, Test Loss: 0.1896, Test Acc: 0.94\n",
      "Charlier, Epoch 9, Train Loss: 0.1728, Test Loss: 0.1580, Test Acc: 0.95\n",
      "Charlier, Epoch 10, Train Loss: 0.1595, Test Loss: 0.1586, Test Acc: 0.95\n",
      "Charlier, Epoch 11, Train Loss: 0.1562, Test Loss: 0.1702, Test Acc: 0.95\n",
      "Charlier, Epoch 12, Train Loss: 0.1483, Test Loss: 0.1429, Test Acc: 0.96\n",
      "Charlier, Epoch 13, Train Loss: 0.1392, Test Loss: 0.1455, Test Acc: 0.96\n",
      "Charlier, Epoch 14, Train Loss: 0.1356, Test Loss: 0.1817, Test Acc: 0.94\n",
      "Charlier, Epoch 15, Train Loss: 0.1307, Test Loss: 0.1283, Test Acc: 0.96\n",
      "Charlier, Epoch 16, Train Loss: 0.1240, Test Loss: 0.1339, Test Acc: 0.96\n",
      "Charlier, Epoch 17, Train Loss: 0.1197, Test Loss: 0.1437, Test Acc: 0.96\n",
      "Charlier, Epoch 18, Train Loss: 0.1200, Test Loss: 0.1199, Test Acc: 0.96\n",
      "Charlier, Epoch 19, Train Loss: 0.1134, Test Loss: 0.1194, Test Acc: 0.96\n",
      "Charlier, Epoch 20, Train Loss: 0.1105, Test Loss: 0.1275, Test Acc: 0.96\n",
      "Charlier, Epoch 21, Train Loss: 0.1075, Test Loss: 0.1520, Test Acc: 0.95\n",
      "Charlier, Epoch 22, Train Loss: 0.1036, Test Loss: 0.1207, Test Acc: 0.96\n",
      "Charlier, Epoch 23, Train Loss: 0.1020, Test Loss: 0.1194, Test Acc: 0.96\n",
      "Charlier, Epoch 24, Train Loss: 0.0976, Test Loss: 0.1221, Test Acc: 0.96\n",
      "Charlier, Epoch 25, Train Loss: 0.0991, Test Loss: 0.1846, Test Acc: 0.94\n",
      "Charlier, Epoch 26, Train Loss: 0.0913, Test Loss: 0.1176, Test Acc: 0.96\n",
      "Charlier, Epoch 27, Train Loss: 0.0906, Test Loss: 0.1179, Test Acc: 0.96\n",
      "Charlier, Epoch 28, Train Loss: 0.0878, Test Loss: 0.1129, Test Acc: 0.97\n",
      "Charlier, Epoch 29, Train Loss: 0.0882, Test Loss: 0.1096, Test Acc: 0.97\n",
      "Charlier, Epoch 30, Train Loss: 0.0851, Test Loss: 0.1115, Test Acc: 0.97\n",
      "Charlier, Epoch 31, Train Loss: 0.0852, Test Loss: 0.0922, Test Acc: 0.97\n",
      "Charlier, Epoch 32, Train Loss: 0.0796, Test Loss: 0.1033, Test Acc: 0.97\n",
      "Charlier, Epoch 33, Train Loss: 0.0807, Test Loss: 0.1332, Test Acc: 0.96\n",
      "Charlier, Epoch 34, Train Loss: 0.0779, Test Loss: 0.1132, Test Acc: 0.97\n",
      "Charlier, Epoch 35, Train Loss: 0.0766, Test Loss: 0.1152, Test Acc: 0.97\n",
      "Charlier, Epoch 36, Train Loss: 0.0782, Test Loss: 0.1141, Test Acc: 0.97\n",
      "Charlier, Epoch 37, Train Loss: 0.0734, Test Loss: 0.0976, Test Acc: 0.97\n",
      "Charlier, Epoch 38, Train Loss: 0.0723, Test Loss: 0.1071, Test Acc: 0.97\n",
      "Charlier, Epoch 39, Train Loss: 0.0729, Test Loss: 0.1018, Test Acc: 0.97\n",
      "Charlier, Epoch 40, Train Loss: 0.0697, Test Loss: 0.0935, Test Acc: 0.97\n",
      "Charlier, Epoch 41, Train Loss: 0.0670, Test Loss: 0.1251, Test Acc: 0.96\n",
      "Charlier, Epoch 42, Train Loss: 0.0684, Test Loss: 0.1008, Test Acc: 0.97\n",
      "Charlier, Epoch 43, Train Loss: 0.0664, Test Loss: 0.0983, Test Acc: 0.97\n",
      "Charlier, Epoch 44, Train Loss: 0.0645, Test Loss: 0.0943, Test Acc: 0.97\n",
      "Charlier, Epoch 45, Train Loss: 0.0645, Test Loss: 0.0990, Test Acc: 0.97\n",
      "Charlier, Epoch 46, Train Loss: 0.0664, Test Loss: 0.0997, Test Acc: 0.97\n",
      "Charlier, Epoch 47, Train Loss: 0.0620, Test Loss: 0.0922, Test Acc: 0.97\n",
      "Charlier, Epoch 48, Train Loss: 0.0626, Test Loss: 0.1102, Test Acc: 0.97\n",
      "Charlier, Epoch 49, Train Loss: 0.0605, Test Loss: 0.1015, Test Acc: 0.97\n",
      "Charlier, Epoch 50, Train Loss: 0.0587, Test Loss: 0.0932, Test Acc: 0.97\n"
     ]
    },
    {
     "data": {
      "image/png": "[encoded data removed]",
      "text/plain": [
       "<Figure size 1000x500 with 1 Axes>"
      ]
     },
     "metadata": {},
     "output_type": "display_data"
    },
    {
     "name": "stdout",
     "output_type": "stream",
     "text": [
      "Charlier processing time: 853.90 seconds\n"
     ]
    }
   ],
   "source": [
    "import time\n",
    "\n",
    "epochs = 50\n",
    "\n",
    "def train_and_validate(models, model_names, train_loader, test_loader, criterion, optimizers, device, epochs):\n",
    "    train_losses = [[] for _ in range(len(models))]\n",
    "    test_losses = [[] for _ in range(len(models))]\n",
    "    best_weights = [None] * len(models)\n",
    "    best_test_losses = [float('inf')] * len(models)\n",
    "    model_times = [0.0] * len(models)  # Initialize a list to store processing time for each model\n",
    "\n",
    "    for epoch in range(epochs):\n",
    "        for i, (model, optimizer) in enumerate(zip(models, optimizers)):\n",
    "            start_time = time.time()  # Record the start time\n",
    "\n",
    "            train_loss = train(model, train_loader, criterion, optimizer, device)\n",
    "            test_loss, test_accuracy = validate(model, test_loader, criterion, device)\n",
    "\n",
    "            end_time = time.time()  # Record the end time\n",
    "            model_times[i] += end_time - start_time  # Accumulate the processing time for the current model\n",
    "\n",
    "            train_losses[i].append(train_loss)\n",
    "            test_losses[i].append(test_loss)\n",
    "\n",
    "            if test_loss < best_test_losses[i]:\n",
    "                best_test_losses[i] = test_loss\n",
    "                best_weights[i] = model.state_dict()\n",
    "\n",
    "            print(f'{model_names[i]}, Epoch {epoch+1}, Train Loss: {train_loss:.4f}, '\n",
    "                  f'Test Loss: {test_loss:.4f}, Test Acc: {test_accuracy:.2f}')\n",
    "\n",
    "    return train_losses, test_losses, best_weights, model_times\n",
    "\n",
    "\n",
    "optimizers = [optim.Adam(model.parameters(), lr=0.0002) for model in models]\n",
    "\n",
    "train_losses, test_losses, best_weights, model_times = train_and_validate(models, Model_Names, train_loader, test_loader, criterion, optimizers, device, epochs)\n",
    "\n",
    "plt.figure(figsize=(10, 5))\n",
    "for i in range(len(models)):\n",
    "    plt.plot(range(1, epochs + 1), test_losses[i], label=f'{Model_Names[i]} Test Loss')\n",
    "plt.title('Test Loss Convergence')\n",
    "plt.xlabel('Epochs')\n",
    "plt.ylabel('Loss')\n",
    "plt.legend()\n",
    "plt.grid(True)\n",
    "plt.show()\n",
    "\n",
    "# Save the best weights for each model\n",
    "for i, model in enumerate(models):\n",
    "    model.load_state_dict(best_weights[i])\n",
    "    torch.save(model.state_dict(), f'{Model_Names[i]}_best_weights.pth')\n",
    "\n",
    "# Print the processing time for each model\n",
    "for i, model_name in enumerate(Model_Names):\n",
    "    print(f\"{model_name} processing time: {model_times[i]:.2f} seconds\")"
   ]
  },
  {
   "cell_type": "markdown",
   "metadata": {},
   "source": [
    "# **Model Test**"
   ]
  },
  {
   "cell_type": "code",
   "execution_count": 7,
   "metadata": {},
   "outputs": [],
   "source": [
    "def predict(model, test_loader, device):\n",
    "    model.eval()\n",
    "    predictions = []\n",
    "    test_labels=[]\n",
    "\n",
    "    with torch.no_grad():\n",
    "        for data, target in test_loader:\n",
    "            data = data.to(device)\n",
    "            output = model(data)\n",
    "            pred = output.argmax(dim=1)\n",
    "            test_labels.extend(target.cpu().numpy())\n",
    "            predictions.extend(pred.cpu().numpy())\n",
    "    return predictions,test_labels\n"
   ]
  },
  {
   "cell_type": "code",
   "execution_count": 8,
   "metadata": {},
   "outputs": [
    {
     "name": "stdout",
     "output_type": "stream",
     "text": [
      "Model Charlier - Overall Accuracy: 0.9726, Kappa: 0.9695, F1 Score: 0.9726\n"
     ]
    }
   ],
   "source": [
    "from sklearn.metrics import f1_score, cohen_kappa_score, accuracy_score\n",
    "metrics = {\n",
    "    'Accuracy': [],\n",
    "    'Kappa': [],\n",
    "    'F1 Score': []\n",
    "}\n",
    "\n",
    "for i, model in enumerate(models):\n",
    "    model.load_state_dict(best_weights[i])\n",
    "    model.eval()\n",
    "\n",
    "    test_preds,test_labels = predict(model, test_loader, device)\n",
    "    f1 = f1_score(test_labels, test_preds, average='micro')\n",
    "    kappa = cohen_kappa_score(test_labels, test_preds)\n",
    "    overall_acc = accuracy_score(test_labels, test_preds)\n",
    "    metrics['Accuracy'].append(overall_acc)\n",
    "    metrics['Kappa'].append(kappa)\n",
    "    metrics['F1 Score'].append(f1)\n",
    "    \n",
    "    print(f\"Model {Model_Names[i]} - \"\n",
    "          f\"Overall Accuracy: {overall_acc:.4f}, \"\n",
    "          f\"Kappa: {kappa:.4f}, \"\n",
    "          f\"F1 Score: {f1:.4f}\")"
   ]
  },
  {
   "cell_type": "code",
   "execution_count": 9,
   "metadata": {},
   "outputs": [
    {
     "data": {
      "image/png": "[encoded data removed]",
      "text/plain": [
       "<Figure size 1000x600 with 1 Axes>"
      ]
     },
     "metadata": {},
     "output_type": "display_data"
    }
   ],
   "source": [
    "fig, ax = plt.subplots(figsize=(10, 6))\n",
    "bar_width = 0.2\n",
    "opacity = 0.8\n",
    "index = np.arange(len(metrics.keys()))\n",
    "\n",
    "colors = ['#1f77b4', '#ff7f0e', '#2ca02c', '#d62728']  # Custom colors for each model\n",
    "\n",
    "for i, model_name in enumerate(Model_Names):\n",
    "    model_metrics = [metrics['Accuracy'][i], metrics['Kappa'][i], metrics['F1 Score'][i]]\n",
    "    ax.bar(index + i * bar_width, model_metrics, bar_width,\n",
    "           alpha=opacity, color=colors[i], label=model_name)\n",
    "\n",
    "ax.set_xlabel('Metrics')\n",
    "ax.set_ylabel('Scores')\n",
    "ax.set_title('Model Metrics Comparison')\n",
    "ax.set_xticks(index + bar_width * (len(Model_Names) - 1) / 2)\n",
    "ax.set_xticklabels(metrics.keys())\n",
    "ax.legend()\n",
    "\n",
    "plt.tight_layout()\n",
    "plt.show()"
   ]
  },
  {
   "cell_type": "code",
   "execution_count": null,
   "metadata": {},
   "outputs": [],
   "source": []
  }
 ],
 "metadata": {
  "accelerator": "TPU",
  "colab": {
   "collapsed_sections": [],
   "machine_shape": "hm",
   "name": "ISPRS-2020-HyperspectralChange DetectionUSA.ipynb",
   "provenance": []
  },
  "kernelspec": {
   "display_name": "Python 3",
   "language": "python",
   "name": "python3"
  },
  "language_info": {
   "codemirror_mode": {
    "name": "ipython",
    "version": 3
   },
   "file_extension": ".py",
   "mimetype": "text/x-python",
   "name": "python",
   "nbconvert_exporter": "python",
   "pygments_lexer": "ipython3",
   "version": "3.11.7"
  }
 },
 "nbformat": 4,
 "nbformat_minor": 4
}
