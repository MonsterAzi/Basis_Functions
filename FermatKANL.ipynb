{
 "cells": [
  {
   "cell_type": "markdown",
   "metadata": {},
   "source": [
    "# **Define of Model**"
   ]
  },
  {
   "cell_type": "code",
   "execution_count": 1,
   "metadata": {},
   "outputs": [],
   "source": [
    "import torch\n",
    "import torch.nn as nn\n",
    "import torch\n",
    "import torch.nn as nn\n",
    "import torch.optim as optim\n",
    "from torchvision import datasets, transforms\n",
    "from torch.utils.data import DataLoader, Subset\n",
    "import numpy as np\n",
    "import matplotlib.pyplot as plt\n",
    "%matplotlib inline\n",
    "import numpy as np"
   ]
  },
  {
   "cell_type": "code",
   "execution_count": 2,
   "metadata": {},
   "outputs": [],
   "source": [
    "#import os\n",
    "#os.environ['CUDA_LAUNCH_BLOCKING'] = '1'"
   ]
  },
  {
   "cell_type": "code",
   "execution_count": 3,
   "metadata": {},
   "outputs": [],
   "source": [
    "import torch\n",
    "import torch.nn as nn\n",
    "\n",
    "def fermat(n, x):\n",
    "    if n == 0:\n",
    "        return torch.ones_like(x)\n",
    "    else:\n",
    "        return (x**(2**n) - 1) / 2\n",
    "\n",
    "class FermatKANLayer(nn.Module):\n",
    "    def __init__(self, input_dim, output_dim, degree):\n",
    "        super(FermatKANLayer, self).__init__()\n",
    "        self.input_dim = input_dim\n",
    "        self.output_dim = output_dim\n",
    "        self.degree = degree\n",
    "        self.fermat_coeffs = nn.Parameter(torch.empty(input_dim, output_dim, degree + 1))\n",
    "        nn.init.normal_(self.fermat_coeffs, mean=0.0, std=1 / (input_dim * (degree + 1)))\n",
    "\n",
    "    def forward(self, x):\n",
    "        # Normalize x to [0, 1] using sigmoid\n",
    "        x = torch.sigmoid(x)\n",
    "\n",
    "        # Compute the Fermat basis functions\n",
    "        fermat_basis = []\n",
    "        for n in range(self.degree + 1):\n",
    "            fermat_basis.append(fermat(n, x))\n",
    "        fermat_basis = torch.stack(fermat_basis, dim=-1)  # shape = (batch_size, input_dim, degree + 1)\n",
    "\n",
    "        # Compute the Fermat interpolation\n",
    "        y = torch.einsum(\"bid,iod->bo\", fermat_basis, self.fermat_coeffs)  # shape = (batch_size, output_dim)\n",
    "        y = y.view(-1, self.output_dim)\n",
    "\n",
    "        return y\n",
    "class MNISTFermatKAN(nn.Module):\n",
    "    def __init__(self):\n",
    "        super(MNISTFermatKAN, self).__init__()\n",
    "        self.trigkan1 = FermatKANLayer(784, 32, 3)\n",
    "        self.bn1 = nn.LayerNorm(32)\n",
    "        self.trigkan2 = FermatKANLayer(32, 32, 3)\n",
    "        self.bn2 = nn.LayerNorm(32)\n",
    "        self.trigkan3 = FermatKANLayer(32, 10, 3)\n",
    "\n",
    "    def forward(self, x):\n",
    "        x = x.view(-1, 28*28)\n",
    "        x = self.trigkan1(x)\n",
    "        x = self.bn1(x)\n",
    "        x = self.trigkan2(x)\n",
    "        x = self.bn2(x)\n",
    "        x = self.trigkan3(x)\n",
    "        return x"
   ]
  },
  {
   "cell_type": "code",
   "execution_count": 4,
   "metadata": {},
   "outputs": [],
   "source": [
    "import torch\n",
    "import torch.nn as nn\n",
    "import torch\n",
    "import torch.nn as nn\n",
    "import torch.optim as optim\n",
    "from torchvision import datasets, transforms\n",
    "from torch.utils.data import DataLoader, Subset\n",
    "import numpy as n\n",
    "transform = transforms.Compose([\n",
    "    transforms.ToTensor(), \n",
    "    transforms.Normalize((0.1307,), (0.3081,))\n",
    "])\n",
    "\n",
    "train_dataset = datasets.MNIST(root='./data', train=True, download=True, transform=transform)\n",
    "test_dataset = datasets.MNIST(root='./data', train=False, download=True, transform=transform)\n",
    "\n",
    "train_loader = DataLoader(train_dataset, batch_size=64, shuffle=True)\n",
    "test_loader = DataLoader(test_dataset, batch_size=1024, shuffle=False)\n",
    "\n",
    "device = torch.device(\"cuda\" if torch.cuda.is_available() else \"cpu\")\n",
    "num_classes = 10\n",
    "\n",
    "\n",
    "\n",
    "criterion = nn.CrossEntropyLoss()\n",
    "\n",
    "\n",
    "def train(model, train_loader, criterion, optimizer, device):\n",
    "    model.train()\n",
    "    total_loss = 0\n",
    "    correct = 0\n",
    "    \n",
    "    for idx, (data, target) in enumerate(train_loader):\n",
    "        data, target = data.to(device), target.to(device)\n",
    "\n",
    "        if isinstance(optimizer, optim.LBFGS):\n",
    "            def closure():\n",
    "                optimizer.zero_grad()\n",
    "                output = model(data)\n",
    "                loss = criterion(output, target)\n",
    "                loss.backward()\n",
    "                return loss\n",
    "            loss = optimizer.step(closure)\n",
    "        else:\n",
    "            optimizer.zero_grad()\n",
    "            output = model(data)\n",
    "            loss = criterion(output, target)\n",
    "            loss.backward()\n",
    "            optimizer.step()\n",
    "            loss = loss.item()\n",
    "            \n",
    "        total_loss += loss\n",
    "        \n",
    "    return total_loss / len(train_loader)\n",
    "\n",
    "def validate(model, test_loader, criterion, device):\n",
    "    model.eval()\n",
    "    total_loss = 0\n",
    "    correct = 0\n",
    "    with torch.no_grad():\n",
    "        for data, target in test_loader:\n",
    "            data, target = data.to(device), target.to(device)\n",
    "            output = model(data)\n",
    "            loss = criterion(output, target)\n",
    "            total_loss += loss.item()\n",
    "            pred = output.argmax(dim=1, keepdim=True)\n",
    "            correct += pred.eq(target.view_as(pred)).sum().item()\n",
    "\n",
    "    return total_loss / len(test_loader), correct / len(test_loader.dataset)"
   ]
  },
  {
   "cell_type": "code",
   "execution_count": 5,
   "metadata": {},
   "outputs": [
    {
     "name": "stdout",
     "output_type": "stream",
     "text": [
      "Total trainable parameters of Fermat: 105856\n"
     ]
    }
   ],
   "source": [
    "Model_Names=['Fermat']\n",
    "model0 = MNISTFermatKAN().to(device)\n",
    "models=[model0]\n",
    "total_params = sum(p.numel() for p in model0.parameters() if p.requires_grad)\n",
    "print(f\"Total trainable parameters of {Model_Names[0]}: {total_params}\")\n"
   ]
  },
  {
   "cell_type": "markdown",
   "metadata": {},
   "source": [
    "# **Training of Model**"
   ]
  },
  {
   "cell_type": "code",
   "execution_count": 6,
   "metadata": {},
   "outputs": [
    {
     "name": "stdout",
     "output_type": "stream",
     "text": [
      "Fermat, Epoch 1, Train Loss: 2.1833, Test Loss: 1.8530, Test Acc: 0.58\n",
      "Fermat, Epoch 2, Train Loss: 1.4824, Test Loss: 1.1434, Test Acc: 0.82\n",
      "Fermat, Epoch 3, Train Loss: 0.9129, Test Loss: 0.7205, Test Acc: 0.87\n",
      "Fermat, Epoch 4, Train Loss: 0.6046, Test Loss: 0.5053, Test Acc: 0.90\n",
      "Fermat, Epoch 5, Train Loss: 0.4615, Test Loss: 0.4025, Test Acc: 0.91\n",
      "Fermat, Epoch 6, Train Loss: 0.3913, Test Loss: 0.3522, Test Acc: 0.91\n",
      "Fermat, Epoch 7, Train Loss: 0.3463, Test Loss: 0.4052, Test Acc: 0.89\n",
      "Fermat, Epoch 8, Train Loss: 0.3250, Test Loss: 0.2830, Test Acc: 0.92\n",
      "Fermat, Epoch 9, Train Loss: 0.3039, Test Loss: 0.3367, Test Acc: 0.90\n",
      "Fermat, Epoch 10, Train Loss: 0.2880, Test Loss: 0.2531, Test Acc: 0.93\n",
      "Fermat, Epoch 11, Train Loss: 0.2716, Test Loss: 0.2657, Test Acc: 0.93\n",
      "Fermat, Epoch 12, Train Loss: 0.2573, Test Loss: 0.3148, Test Acc: 0.90\n",
      "Fermat, Epoch 13, Train Loss: 0.2574, Test Loss: 0.2731, Test Acc: 0.92\n",
      "Fermat, Epoch 14, Train Loss: 0.2407, Test Loss: 0.2125, Test Acc: 0.94\n",
      "Fermat, Epoch 15, Train Loss: 0.2374, Test Loss: 0.2451, Test Acc: 0.93\n",
      "Fermat, Epoch 16, Train Loss: 0.2235, Test Loss: 0.1972, Test Acc: 0.94\n",
      "Fermat, Epoch 17, Train Loss: 0.2240, Test Loss: 0.2441, Test Acc: 0.93\n",
      "Fermat, Epoch 18, Train Loss: 0.2117, Test Loss: 0.2066, Test Acc: 0.94\n",
      "Fermat, Epoch 19, Train Loss: 0.2067, Test Loss: 0.1790, Test Acc: 0.95\n",
      "Fermat, Epoch 20, Train Loss: 0.2014, Test Loss: 0.2034, Test Acc: 0.94\n",
      "Fermat, Epoch 21, Train Loss: 0.1956, Test Loss: 0.1929, Test Acc: 0.94\n",
      "Fermat, Epoch 22, Train Loss: 0.1957, Test Loss: 0.2107, Test Acc: 0.94\n",
      "Fermat, Epoch 23, Train Loss: 0.1854, Test Loss: 0.2171, Test Acc: 0.94\n",
      "Fermat, Epoch 24, Train Loss: 0.1853, Test Loss: 0.2091, Test Acc: 0.94\n",
      "Fermat, Epoch 25, Train Loss: 0.1767, Test Loss: 0.1615, Test Acc: 0.95\n",
      "Fermat, Epoch 26, Train Loss: 0.1767, Test Loss: 0.2078, Test Acc: 0.94\n",
      "Fermat, Epoch 27, Train Loss: 0.1699, Test Loss: 0.1705, Test Acc: 0.95\n",
      "Fermat, Epoch 28, Train Loss: 0.1691, Test Loss: 0.1510, Test Acc: 0.95\n",
      "Fermat, Epoch 29, Train Loss: 0.1686, Test Loss: 0.1662, Test Acc: 0.95\n",
      "Fermat, Epoch 30, Train Loss: 0.1634, Test Loss: 0.1729, Test Acc: 0.95\n",
      "Fermat, Epoch 31, Train Loss: 0.1589, Test Loss: 0.1612, Test Acc: 0.95\n",
      "Fermat, Epoch 32, Train Loss: 0.1629, Test Loss: 0.1697, Test Acc: 0.95\n",
      "Fermat, Epoch 33, Train Loss: 0.1571, Test Loss: 0.1347, Test Acc: 0.96\n",
      "Fermat, Epoch 34, Train Loss: 0.1549, Test Loss: 0.1606, Test Acc: 0.95\n",
      "Fermat, Epoch 35, Train Loss: 0.1460, Test Loss: 0.2308, Test Acc: 0.93\n",
      "Fermat, Epoch 36, Train Loss: 0.1487, Test Loss: 0.1614, Test Acc: 0.95\n",
      "Fermat, Epoch 37, Train Loss: 0.1457, Test Loss: 0.1512, Test Acc: 0.95\n",
      "Fermat, Epoch 38, Train Loss: 0.1403, Test Loss: 0.1556, Test Acc: 0.95\n",
      "Fermat, Epoch 39, Train Loss: 0.1399, Test Loss: 0.1934, Test Acc: 0.94\n",
      "Fermat, Epoch 40, Train Loss: 0.1432, Test Loss: 0.1310, Test Acc: 0.96\n",
      "Fermat, Epoch 41, Train Loss: 0.1339, Test Loss: 0.1691, Test Acc: 0.95\n",
      "Fermat, Epoch 42, Train Loss: 0.1349, Test Loss: 0.1647, Test Acc: 0.95\n",
      "Fermat, Epoch 43, Train Loss: 0.1310, Test Loss: 0.1246, Test Acc: 0.96\n",
      "Fermat, Epoch 44, Train Loss: 0.1316, Test Loss: 0.1252, Test Acc: 0.96\n",
      "Fermat, Epoch 45, Train Loss: 0.1310, Test Loss: 0.1722, Test Acc: 0.95\n",
      "Fermat, Epoch 46, Train Loss: 0.1320, Test Loss: 0.1359, Test Acc: 0.96\n",
      "Fermat, Epoch 47, Train Loss: 0.1246, Test Loss: 0.1576, Test Acc: 0.95\n",
      "Fermat, Epoch 48, Train Loss: 0.1268, Test Loss: 0.1281, Test Acc: 0.96\n",
      "Fermat, Epoch 49, Train Loss: 0.1254, Test Loss: 0.1516, Test Acc: 0.95\n",
      "Fermat, Epoch 50, Train Loss: 0.1231, Test Loss: 0.1216, Test Acc: 0.96\n"
     ]
    },
    {
     "data": {
      "image/png": "[encoded data removed]",
      "text/plain": [
       "<Figure size 1000x500 with 1 Axes>"
      ]
     },
     "metadata": {},
     "output_type": "display_data"
    },
    {
     "name": "stdout",
     "output_type": "stream",
     "text": [
      "Fermat processing time: 757.21 seconds\n"
     ]
    }
   ],
   "source": [
    "import time\n",
    "\n",
    "epochs = 50\n",
    "\n",
    "def train_and_validate(models, model_names, train_loader, test_loader, criterion, optimizers, device, epochs):\n",
    "    train_losses = [[] for _ in range(len(models))]\n",
    "    test_losses = [[] for _ in range(len(models))]\n",
    "    best_weights = [None] * len(models)\n",
    "    best_test_losses = [float('inf')] * len(models)\n",
    "    model_times = [0.0] * len(models)  # Initialize a list to store processing time for each model\n",
    "\n",
    "    for epoch in range(epochs):\n",
    "        for i, (model, optimizer) in enumerate(zip(models, optimizers)):\n",
    "            start_time = time.time()  # Record the start time\n",
    "\n",
    "            train_loss = train(model, train_loader, criterion, optimizer, device)\n",
    "            test_loss, test_accuracy = validate(model, test_loader, criterion, device)\n",
    "\n",
    "            end_time = time.time()  # Record the end time\n",
    "            model_times[i] += end_time - start_time  # Accumulate the processing time for the current model\n",
    "\n",
    "            train_losses[i].append(train_loss)\n",
    "            test_losses[i].append(test_loss)\n",
    "\n",
    "            if test_loss < best_test_losses[i]:\n",
    "                best_test_losses[i] = test_loss\n",
    "                best_weights[i] = model.state_dict()\n",
    "\n",
    "            print(f'{model_names[i]}, Epoch {epoch+1}, Train Loss: {train_loss:.4f}, '\n",
    "                  f'Test Loss: {test_loss:.4f}, Test Acc: {test_accuracy:.2f}')\n",
    "\n",
    "    return train_losses, test_losses, best_weights, model_times\n",
    "\n",
    "\n",
    "optimizers = [optim.Adam(model.parameters(), lr=0.0002) for model in models]\n",
    "\n",
    "train_losses, test_losses, best_weights, model_times = train_and_validate(models, Model_Names, train_loader, test_loader, criterion, optimizers, device, epochs)\n",
    "\n",
    "plt.figure(figsize=(10, 5))\n",
    "for i in range(len(models)):\n",
    "    plt.plot(range(1, epochs + 1), test_losses[i], label=f'{Model_Names[i]} Test Loss')\n",
    "plt.title('Test Loss Convergence')\n",
    "plt.xlabel('Epochs')\n",
    "plt.ylabel('Loss')\n",
    "plt.legend()\n",
    "plt.grid(True)\n",
    "plt.show()\n",
    "\n",
    "# Save the best weights for each model\n",
    "for i, model in enumerate(models):\n",
    "    model.load_state_dict(best_weights[i])\n",
    "    torch.save(model.state_dict(), f'{Model_Names[i]}_best_weights.pth')\n",
    "\n",
    "# Print the processing time for each model\n",
    "for i, model_name in enumerate(Model_Names):\n",
    "    print(f\"{model_name} processing time: {model_times[i]:.2f} seconds\")"
   ]
  },
  {
   "cell_type": "markdown",
   "metadata": {},
   "source": [
    "# **Model Test**"
   ]
  },
  {
   "cell_type": "code",
   "execution_count": 7,
   "metadata": {},
   "outputs": [],
   "source": [
    "def predict(model, test_loader, device):\n",
    "    model.eval()\n",
    "    predictions = []\n",
    "    test_labels=[]\n",
    "\n",
    "    with torch.no_grad():\n",
    "        for data, target in test_loader:\n",
    "            data = data.to(device)\n",
    "            output = model(data)\n",
    "            pred = output.argmax(dim=1)\n",
    "            test_labels.extend(target.cpu().numpy())\n",
    "            predictions.extend(pred.cpu().numpy())\n",
    "    return predictions,test_labels\n"
   ]
  },
  {
   "cell_type": "code",
   "execution_count": 8,
   "metadata": {},
   "outputs": [
    {
     "name": "stdout",
     "output_type": "stream",
     "text": [
      "Model Fermat - Overall Accuracy: 0.9619, Kappa: 0.9577, F1 Score: 0.9619\n"
     ]
    }
   ],
   "source": [
    "from sklearn.metrics import f1_score, cohen_kappa_score, accuracy_score\n",
    "metrics = {\n",
    "    'Accuracy': [],\n",
    "    'Kappa': [],\n",
    "    'F1 Score': []\n",
    "}\n",
    "\n",
    "for i, model in enumerate(models):\n",
    "    model.load_state_dict(best_weights[i])\n",
    "    model.eval()\n",
    "\n",
    "    test_preds,test_labels = predict(model, test_loader, device)\n",
    "    f1 = f1_score(test_labels, test_preds, average='micro')\n",
    "    kappa = cohen_kappa_score(test_labels, test_preds)\n",
    "    overall_acc = accuracy_score(test_labels, test_preds)\n",
    "    metrics['Accuracy'].append(overall_acc)\n",
    "    metrics['Kappa'].append(kappa)\n",
    "    metrics['F1 Score'].append(f1)\n",
    "    \n",
    "    print(f\"Model {Model_Names[i]} - \"\n",
    "          f\"Overall Accuracy: {overall_acc:.4f}, \"\n",
    "          f\"Kappa: {kappa:.4f}, \"\n",
    "          f\"F1 Score: {f1:.4f}\")"
   ]
  },
  {
   "cell_type": "code",
   "execution_count": 9,
   "metadata": {},
   "outputs": [
    {
     "data": {
      "image/png": "[encoded data removed]",
      "text/plain": [
       "<Figure size 1000x600 with 1 Axes>"
      ]
     },
     "metadata": {},
     "output_type": "display_data"
    }
   ],
   "source": [
    "fig, ax = plt.subplots(figsize=(10, 6))\n",
    "bar_width = 0.2\n",
    "opacity = 0.8\n",
    "index = np.arange(len(metrics.keys()))\n",
    "\n",
    "colors = ['#1f77b4', '#ff7f0e', '#2ca02c', '#d62728']  # Custom colors for each model\n",
    "\n",
    "for i, model_name in enumerate(Model_Names):\n",
    "    model_metrics = [metrics['Accuracy'][i], metrics['Kappa'][i], metrics['F1 Score'][i]]\n",
    "    ax.bar(index + i * bar_width, model_metrics, bar_width,\n",
    "           alpha=opacity, color=colors[i], label=model_name)\n",
    "\n",
    "ax.set_xlabel('Metrics')\n",
    "ax.set_ylabel('Scores')\n",
    "ax.set_title('Model Metrics Comparison')\n",
    "ax.set_xticks(index + bar_width * (len(Model_Names) - 1) / 2)\n",
    "ax.set_xticklabels(metrics.keys())\n",
    "ax.legend()\n",
    "\n",
    "plt.tight_layout()\n",
    "plt.show()"
   ]
  },
  {
   "cell_type": "code",
   "execution_count": null,
   "metadata": {},
   "outputs": [],
   "source": []
  }
 ],
 "metadata": {
  "accelerator": "TPU",
  "colab": {
   "collapsed_sections": [],
   "machine_shape": "hm",
   "name": "ISPRS-2020-HyperspectralChange DetectionUSA.ipynb",
   "provenance": []
  },
  "kernelspec": {
   "display_name": "Python 3",
   "language": "python",
   "name": "python3"
  },
  "language_info": {
   "codemirror_mode": {
    "name": "ipython",
    "version": 3
   },
   "file_extension": ".py",
   "mimetype": "text/x-python",
   "name": "python",
   "nbconvert_exporter": "python",
   "pygments_lexer": "ipython3",
   "version": "3.11.7"
  }
 },
 "nbformat": 4,
 "nbformat_minor": 4
}
