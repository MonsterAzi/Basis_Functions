{
 "cells": [
  {
   "cell_type": "markdown",
   "metadata": {},
   "source": [
    "# **Define of Model**"
   ]
  },
  {
   "cell_type": "code",
   "execution_count": 12,
   "metadata": {},
   "outputs": [],
   "source": [
    "import torch\n",
    "import torch.nn as nn\n",
    "import torch\n",
    "import torch.nn as nn\n",
    "import torch.optim as optim\n",
    "from torchvision import datasets, transforms\n",
    "from torch.utils.data import DataLoader, Subset\n",
    "import numpy as np\n",
    "import matplotlib.pyplot as plt\n",
    "%matplotlib inline\n",
    "import numpy as np"
   ]
  },
  {
   "cell_type": "code",
   "execution_count": 8,
   "metadata": {},
   "outputs": [],
   "source": [
    "import torch\n",
    "import torch.nn as nn\n",
    "\n",
    "def octanacci(n, x):\n",
    "    if n == 0:\n",
    "        return torch.zeros_like(x)\n",
    "    elif n == 1:\n",
    "        return torch.ones_like(x)\n",
    "    elif n == 2 or n == 3:\n",
    "        return x ** (n - 1)\n",
    "    elif n == 4 or n == 5:\n",
    "        return x ** (n - 2)\n",
    "    elif n == 6 or n == 7:\n",
    "        return x ** (n - 3)\n",
    "    else:\n",
    "        return x * octanacci(n-1, x) + octanacci(n-2, x) + octanacci(n-3, x) + octanacci(n-4, x) + octanacci(n-5, x) + octanacci(n-6, x) + octanacci(n-7, x) + octanacci(n-8, x)\n",
    "\n",
    "class OctanacciKANLayer(nn.Module):\n",
    "    def __init__(self, input_dim, output_dim, degree):\n",
    "        super(OctanacciKANLayer, self).__init__()\n",
    "        self.input_dim = input_dim\n",
    "        self.output_dim = output_dim\n",
    "        self.degree = degree\n",
    "\n",
    "        self.octanacci_coeffs = nn.Parameter(torch.empty(input_dim, output_dim, degree + 1))\n",
    "        nn.init.normal_(self.octanacci_coeffs, mean=0.0, std=1 / (input_dim * (degree + 1)))\n",
    "\n",
    "    def forward(self, x):\n",
    "        # Normalize x to [0, 1] using sigmoid\n",
    "        x = torch.sigmoid(x)\n",
    "\n",
    "        # Compute the Octanacci basis functions\n",
    "        octanacci_basis = []\n",
    "        for n in range(self.degree + 1):\n",
    "            octanacci_basis.append(octanacci(n, x))\n",
    "        octanacci_basis = torch.stack(octanacci_basis, dim=-1)  # shape = (batch_size, input_dim, degree + 1)\n",
    "\n",
    "        # Compute the Octanacci interpolation\n",
    "        y = torch.einsum(\"bid,iod->bo\", octanacci_basis, self.octanacci_coeffs)  # shape = (batch_size, output_dim)\n",
    "        y = y.view(-1, self.output_dim)\n",
    "\n",
    "        return y\n",
    "\n",
    "class MNISTOctanacciKAN(nn.Module):\n",
    "    def __init__(self):\n",
    "        super(MNISTOctanacciKAN, self).__init__()\n",
    "        self.trigkan1 = OctanacciKANLayer(784, 32, 3)\n",
    "        self.bn1 = nn.LayerNorm(32)\n",
    "        self.trigkan2 = OctanacciKANLayer(32, 32, 3)\n",
    "        self.bn2 = nn.LayerNorm(32)\n",
    "        self.trigkan3 = OctanacciKANLayer(32, 10, 3)\n",
    "\n",
    "    def forward(self, x):\n",
    "        x = x.view(-1, 28*28)\n",
    "        #x=x.tanh()\n",
    "        x = self.trigkan1(x)\n",
    "        x = self.bn1(x)\n",
    "        x = self.trigkan2(x)\n",
    "        x = self.bn2(x)\n",
    "        x = self.trigkan3(x)\n",
    "        return x"
   ]
  },
  {
   "cell_type": "code",
   "execution_count": 9,
   "metadata": {},
   "outputs": [],
   "source": [
    "import torch\n",
    "import torch.nn as nn\n",
    "import torch\n",
    "import torch.nn as nn\n",
    "import torch.optim as optim\n",
    "from torchvision import datasets, transforms\n",
    "from torch.utils.data import DataLoader, Subset\n",
    "import numpy as n\n",
    "transform = transforms.Compose([\n",
    "    transforms.ToTensor(), \n",
    "    transforms.Normalize((0.1307,), (0.3081,))\n",
    "])\n",
    "\n",
    "train_dataset = datasets.MNIST(root='./data', train=True, download=True, transform=transform)\n",
    "test_dataset = datasets.MNIST(root='./data', train=False, download=True, transform=transform)\n",
    "\n",
    "train_loader = DataLoader(train_dataset, batch_size=64, shuffle=True)\n",
    "test_loader = DataLoader(test_dataset, batch_size=1024, shuffle=False)\n",
    "\n",
    "device = torch.device(\"cuda\" if torch.cuda.is_available() else \"cpu\")\n",
    "num_classes = 10\n",
    "\n",
    "\n",
    "\n",
    "criterion = nn.CrossEntropyLoss()\n",
    "\n",
    "\n",
    "def train(model, train_loader, criterion, optimizer, device):\n",
    "    model.train()\n",
    "    total_loss = 0\n",
    "    correct = 0\n",
    "    \n",
    "    for idx, (data, target) in enumerate(train_loader):\n",
    "        data, target = data.to(device), target.to(device)\n",
    "\n",
    "        if isinstance(optimizer, optim.LBFGS):\n",
    "            def closure():\n",
    "                optimizer.zero_grad()\n",
    "                output = model(data)\n",
    "                loss = criterion(output, target)\n",
    "                loss.backward()\n",
    "                return loss\n",
    "            loss = optimizer.step(closure)\n",
    "        else:\n",
    "            optimizer.zero_grad()\n",
    "            output = model(data)\n",
    "            loss = criterion(output, target)\n",
    "            loss.backward()\n",
    "            optimizer.step()\n",
    "            loss = loss.item()\n",
    "            \n",
    "        total_loss += loss\n",
    "        \n",
    "    return total_loss / len(train_loader)\n",
    "\n",
    "def validate(model, test_loader, criterion, device):\n",
    "    model.eval()\n",
    "    total_loss = 0\n",
    "    correct = 0\n",
    "    with torch.no_grad():\n",
    "        for data, target in test_loader:\n",
    "            data, target = data.to(device), target.to(device)\n",
    "            output = model(data)\n",
    "            loss = criterion(output, target)\n",
    "            total_loss += loss.item()\n",
    "            pred = output.argmax(dim=1, keepdim=True)\n",
    "            correct += pred.eq(target.view_as(pred)).sum().item()\n",
    "\n",
    "    return total_loss / len(test_loader), correct / len(test_loader.dataset)"
   ]
  },
  {
   "cell_type": "code",
   "execution_count": 10,
   "metadata": {},
   "outputs": [
    {
     "name": "stdout",
     "output_type": "stream",
     "text": [
      "Total trainable parameters of Octanacci: 105856\n"
     ]
    }
   ],
   "source": [
    "Model_Names=['Octanacci'] #Add names of other models\n",
    "model0 = MNISTOctanacciKAN().to(device)\n",
    "models=[model0]\n",
    "total_params = sum(p.numel() for p in model0.parameters() if p.requires_grad)\n",
    "print(f\"Total trainable parameters of {Model_Names[0]}: {total_params}\")\n"
   ]
  },
  {
   "cell_type": "markdown",
   "metadata": {},
   "source": [
    "# **Training of Model**"
   ]
  },
  {
   "cell_type": "code",
   "execution_count": 13,
   "metadata": {},
   "outputs": [
    {
     "data": {
      "image/png": "[encoded data removed]",
      "text/plain": [
       "<Figure size 1000x500 with 1 Axes>"
      ]
     },
     "metadata": {},
     "output_type": "display_data"
    },
    {
     "name": "stdout",
     "output_type": "stream",
     "text": [
      "Octanacci processing time: 770.62 seconds\n"
     ]
    }
   ],
   "source": [
    "import time\n",
    "\n",
    "epochs = 50\n",
    "\n",
    "def train_and_validate(models, model_names, train_loader, test_loader, criterion, optimizers, device, epochs):\n",
    "    train_losses = [[] for _ in range(len(models))]\n",
    "    test_losses = [[] for _ in range(len(models))]\n",
    "    best_weights = [None] * len(models)\n",
    "    best_test_losses = [float('inf')] * len(models)\n",
    "    model_times = [0.0] * len(models)  # Initialize a list to store processing time for each model\n",
    "\n",
    "    for epoch in range(epochs):\n",
    "        for i, (model, optimizer) in enumerate(zip(models, optimizers)):\n",
    "            start_time = time.time()  # Record the start time\n",
    "\n",
    "            train_loss = train(model, train_loader, criterion, optimizer, device)\n",
    "            test_loss, test_accuracy = validate(model, test_loader, criterion, device)\n",
    "\n",
    "            end_time = time.time()  # Record the end time\n",
    "            model_times[i] += end_time - start_time  # Accumulate the processing time for the current model\n",
    "\n",
    "            train_losses[i].append(train_loss)\n",
    "            test_losses[i].append(test_loss)\n",
    "\n",
    "            if test_loss < best_test_losses[i]:\n",
    "                best_test_losses[i] = test_loss\n",
    "                best_weights[i] = model.state_dict()\n",
    "\n",
    "            print(f'{model_names[i]}, Epoch {epoch+1}, Train Loss: {train_loss:.4f}, '\n",
    "                  f'Test Loss: {test_loss:.4f}, Test Acc: {test_accuracy:.2f}')\n",
    "\n",
    "    return train_losses, test_losses, best_weights, model_times\n",
    "\n",
    "\n",
    "optimizers = [optim.Adam(model.parameters(), lr=0.0002) for model in models]\n",
    "\n",
    "train_losses, test_losses, best_weights, model_times = train_and_validate(models, Model_Names, train_loader, test_loader, criterion, optimizers, device, epochs)\n",
    "\n",
    "plt.figure(figsize=(10, 5))\n",
    "for i in range(len(models)):\n",
    "    plt.plot(range(1, epochs + 1), test_losses[i], label=f'{Model_Names[i]} Test Loss')\n",
    "plt.title('Test Loss Convergence')\n",
    "plt.xlabel('Epochs')\n",
    "plt.ylabel('Loss')\n",
    "plt.legend()\n",
    "plt.grid(True)\n",
    "plt.show()\n",
    "\n",
    "# Save the best weights for each model\n",
    "for i, model in enumerate(models):\n",
    "    model.load_state_dict(best_weights[i])\n",
    "    torch.save(model.state_dict(), f'{Model_Names[i]}_best_weights.pth')\n",
    "\n",
    "# Print the processing time for each model\n",
    "for i, model_name in enumerate(Model_Names):\n",
    "    print(f\"{model_name} processing time: {model_times[i]:.2f} seconds\")"
   ]
  },
  {
   "cell_type": "markdown",
   "metadata": {},
   "source": [
    "# **Model Test**"
   ]
  },
  {
   "cell_type": "code",
   "execution_count": 14,
   "metadata": {},
   "outputs": [],
   "source": [
    "def predict(model, test_loader, device):\n",
    "    model.eval()\n",
    "    predictions = []\n",
    "    test_labels=[]\n",
    "\n",
    "    with torch.no_grad():\n",
    "        for data, target in test_loader:\n",
    "            data = data.to(device)\n",
    "            output = model(data)\n",
    "            pred = output.argmax(dim=1)\n",
    "            test_labels.extend(target.cpu().numpy())\n",
    "            predictions.extend(pred.cpu().numpy())\n",
    "    return predictions,test_labels\n"
   ]
  },
  {
   "cell_type": "code",
   "execution_count": 15,
   "metadata": {},
   "outputs": [
    {
     "name": "stdout",
     "output_type": "stream",
     "text": [
      "Model Octanacci - Overall Accuracy: 0.9688, Kappa: 0.9653, F1 Score: 0.9688\n"
     ]
    }
   ],
   "source": [
    "from sklearn.metrics import f1_score, cohen_kappa_score, accuracy_score\n",
    "metrics = {\n",
    "    'Accuracy': [],\n",
    "    'Kappa': [],\n",
    "    'F1 Score': []\n",
    "}\n",
    "\n",
    "for i, model in enumerate(models):\n",
    "    model.load_state_dict(best_weights[i])\n",
    "    model.eval()\n",
    "\n",
    "    test_preds,test_labels = predict(model, test_loader, device)\n",
    "    f1 = f1_score(test_labels, test_preds, average='micro')\n",
    "    kappa = cohen_kappa_score(test_labels, test_preds)\n",
    "    overall_acc = accuracy_score(test_labels, test_preds)\n",
    "    metrics['Accuracy'].append(overall_acc)\n",
    "    metrics['Kappa'].append(kappa)\n",
    "    metrics['F1 Score'].append(f1)\n",
    "    \n",
    "    print(f\"Model {Model_Names[i]} - \"\n",
    "          f\"Overall Accuracy: {overall_acc:.4f}, \"\n",
    "          f\"Kappa: {kappa:.4f}, \"\n",
    "          f\"F1 Score: {f1:.4f}\")"
   ]
  },
  {
   "cell_type": "code",
   "execution_count": 16,
   "metadata": {},
   "outputs": [
    {
     "data": {
      "image/png": "[encoded data removed]",
      "text/plain": [
       "<Figure size 1000x600 with 1 Axes>"
      ]
     },
     "metadata": {},
     "output_type": "display_data"
    }
   ],
   "source": [
    "fig, ax = plt.subplots(figsize=(10, 6))\n",
    "bar_width = 0.2\n",
    "opacity = 0.8\n",
    "index = np.arange(len(metrics.keys()))\n",
    "\n",
    "colors = ['#1f77b4', '#ff7f0e', '#2ca02c', '#d62728']  # Custom colors for each model\n",
    "\n",
    "for i, model_name in enumerate(Model_Names):\n",
    "    model_metrics = [metrics['Accuracy'][i], metrics['Kappa'][i], metrics['F1 Score'][i]]\n",
    "    ax.bar(index + i * bar_width, model_metrics, bar_width,\n",
    "           alpha=opacity, color=colors[i], label=model_name)\n",
    "\n",
    "ax.set_xlabel('Metrics')\n",
    "ax.set_ylabel('Scores')\n",
    "ax.set_title('Model Metrics Comparison')\n",
    "ax.set_xticks(index + bar_width * (len(Model_Names) - 1) / 2)\n",
    "ax.set_xticklabels(metrics.keys())\n",
    "ax.legend()\n",
    "\n",
    "plt.tight_layout()\n",
    "plt.show()"
   ]
  },
  {
   "cell_type": "code",
   "execution_count": null,
   "metadata": {},
   "outputs": [],
   "source": []
  }
 ],
 "metadata": {
  "accelerator": "TPU",
  "colab": {
   "collapsed_sections": [],
   "machine_shape": "hm",
   "name": "ISPRS-2020-HyperspectralChange DetectionUSA.ipynb",
   "provenance": []
  },
  "kernelspec": {
   "display_name": "Python 3",
   "language": "python",
   "name": "python3"
  },
  "language_info": {
   "codemirror_mode": {
    "name": "ipython",
    "version": 3
   },
   "file_extension": ".py",
   "mimetype": "text/x-python",
   "name": "python",
   "nbconvert_exporter": "python",
   "pygments_lexer": "ipython3",
   "version": "3.11.7"
  }
 },
 "nbformat": 4,
 "nbformat_minor": 4
}
